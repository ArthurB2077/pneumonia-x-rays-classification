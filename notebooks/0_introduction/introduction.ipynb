{
 "cells": [
  {
   "attachments": {},
   "cell_type": "markdown",
   "id": "6bd9f332",
   "metadata": {},
   "source": [
    "# Introduction\n",
    "\n",
    "Before begining to demonstrate all the different methods that we used to implement our model, here a presentation of the differents methods that we use during all the step of the model development."
   ]
  },
  {
   "attachments": {},
   "cell_type": "markdown",
   "id": "9e01fa03",
   "metadata": {},
   "source": [
    "\n",
    "## Dataset builder (scripts/x_ray_dataset_builder.py)\n",
    "\n",
    "This class is designed to create and manage image datasets for building our ML models, specifically those using TensorFlow.\n",
    "This class is initialized with parameters such as the directory path containing the image data, the validation split, the subset of data to use, the color mode of the images, the batch size, and the image size."
   ]
  },
  {
   "cell_type": "code",
   "execution_count": null,
   "id": "8590d23d",
   "metadata": {
    "vscode": {
     "languageId": "plaintext"
    }
   },
   "outputs": [],
   "source": [
    "import matplotlib.pyplot as plt\n",
    "import numpy as np\n",
    "import tensorflow as tf\n",
    "\n",
    "from x_ray_data_viz import plot_distribution, plot_mean\n",
    "\n",
    "class Dataset:\n",
    "    def __init__(self, dir_path, validation_split=None, subset=None, color_mode=\"grayscale\", batch_size=64, image_size=(512, 512)):\n",
    "        self.dir_path = dir_path\n",
    "        self.validation_split = validation_split\n",
    "        self.subset = subset\n",
    "        self.color_mode = color_mode\n",
    "        self.batch_size = batch_size\n",
    "        self.image_size = image_size\n",
    "        self.dataset = None\n",
    "        self.normalized_dataset = None\n",
    "        self.class_names = None\n",
    "        self.x_dataset = []\n",
    "        self.y_dataset = []"
   ]
  },
  {
   "attachments": {},
   "cell_type": "markdown",
   "id": "a4a1134c",
   "metadata": {},
   "source": [
    "Upon building the dataset using the build method, the class utilizes the image_dataset_from_directory function from TensorFlow's Keras API to load the images and labels directly from the specified directory. \n",
    "The images are then preprocessed using a caching mechanism to speed up future access, and optionally shuffled if the dataset is used for training. The images are also rescaled to a range between 0 and 1 for normalization purposes."
   ]
  },
  {
   "cell_type": "code",
   "execution_count": null,
   "id": "81ce59c4",
   "metadata": {
    "vscode": {
     "languageId": "plaintext"
    }
   },
   "outputs": [],
   "source": [
    "    def build(self, autotune, is_training=False):\n",
    "        dataset = tf.keras.utils.image_dataset_from_directory(\n",
    "            self.dir_path,\n",
    "            labels=\"inferred\",\n",
    "            label_mode=\"categorical\",\n",
    "            subset=self.subset,\n",
    "            seed=123,\n",
    "            color_mode=self.color_mode,\n",
    "            batch_size=self.batch_size,\n",
    "            image_size=self.image_size,\n",
    "        )\n",
    "\n",
    "        if(is_training):\n",
    "            self.dataset = dataset.cache().shuffle(1000).prefetch(buffer_size=autotune)\n",
    "        else:\n",
    "            self.dataset = dataset.cache().prefetch(buffer_size=autotune)\n",
    "\n",
    "        self.class_names = dataset.class_names\n",
    "\n",
    "        normalization_layer = tf.keras.layers.Rescaling(1./255)\n",
    "        self.normalized_dataset = self.dataset.map(lambda x, y: (normalization_layer(x), y))\n",
    "        \n",
    "        for x, y in self.normalized_dataset.unbatch().as_numpy_iterator():\n",
    "            self.x_dataset.append(x)\n",
    "            self.y_dataset.append(y)\n",
    "        \n",
    "        self.x_dataset, self.y_dataset = np.array(self.x_dataset), np.array(self.y_dataset)\n",
    "\n",
    "        return self.normalized_dataset"
   ]
  },
  {
   "attachments": {},
   "cell_type": "markdown",
   "id": "f1f195a6",
   "metadata": {},
   "source": [
    "\n",
    "The Dataset class provides several utility methods to interact with the created dataset: getting class names, acquiring the shape of batches, and displaying images from a batch. "
   ]
  },
  {
   "cell_type": "code",
   "execution_count": null,
   "id": "272e4625",
   "metadata": {
    "vscode": {
     "languageId": "plaintext"
    }
   },
   "outputs": [],
   "source": [
    "def get_class_names(self):\n",
    "        return self.class_names\n",
    "    \n",
    "    def get_x_batch_shape(self):\n",
    "        for image_batch, _ in self.dataset:\n",
    "            return image_batch.shape\n",
    "    \n",
    "    def get_y_batch_shape(self):\n",
    "        for _, labels_batch in self.dataset:\n",
    "            return labels_batch.shape\n",
    "        \n",
    "    def display_images_in_batch(self, batch_index, dataset_name):\n",
    "        images, labels = next(iter(self.dataset.take(batch_index)))\n",
    "\n",
    "        plt.figure(figsize=(20, 10))\n",
    "\n",
    "        for i in range(9):\n",
    "            plt.subplot(3, 3, i + 1)\n",
    "            plt.imshow(images[i].numpy().astype(\"uint8\"), cmap='gray')\n",
    "            plt.title(f\"{dataset_name} - {self.class_names[np.argmax(labels[i])]} (batch {batch_index})\")\n",
    "            plt.axis(\"off\")\n",
    "        \n",
    "        plt.show()\n",
    "\n",
    "    def display_batch_number(self, dataset_name):\n",
    "        total_images = len(self.x_dataset)\n",
    "        batch_size = self.batch_size\n",
    "\n",
    "        total_batches = total_images // batch_size\n",
    "\n",
    "        if total_images % batch_size != 0:\n",
    "            total_batches += 1\n",
    "\n",
    "        batch_indices = list(range(total_batches))\n",
    "        batch_sizes = [batch_size]*total_batches\n",
    "\n",
    "        if total_images % batch_size != 0:\n",
    "            batch_sizes[-1] = total_images % batch_size\n",
    "\n",
    "        plt.figure(figsize=(20, 10))\n",
    "        plt.style.use('seaborn')\n",
    "        plt.bar(batch_indices, batch_sizes, color='#ff6f00')\n",
    "        plt.xlabel('Batchs')\n",
    "        plt.ylabel('Images')\n",
    "        plt.title(f'Batchs and images per batch in {dataset_name}')\n",
    "        plt.show()"
   ]
  },
  {
   "attachments": {},
   "cell_type": "markdown",
   "id": "6649c45b",
   "metadata": {},
   "source": [
    "It also offers methods to visualize the number of images in each batch and to display the distribution of labels in the dataset. \n",
    "\n",
    "Moreover, it includes a function to calculate and plot the mean of labels. This class is beneficial for data exploration and preprocessing steps, providing a comprehensive tool for managing image datasets in machine learning applications."
   ]
  },
  {
   "cell_type": "code",
   "execution_count": null,
   "id": "67459b3a",
   "metadata": {
    "vscode": {
     "languageId": "plaintext"
    }
   },
   "outputs": [],
   "source": [
    "    def display_distribution(self, dataset_name):\n",
    "        labels_index = np.argmax(self.y_dataset, axis=1)\n",
    "        labels = []\n",
    "\n",
    "        for index in labels_index:\n",
    "            labels.append(self.class_names[index])\n",
    "        \n",
    "        plot_distribution(labels, dataset_name)\n",
    "\n",
    "    def display_mean(self, dataset_name):\n",
    "        labels = np.argmax(self.y_dataset, axis=1)\n",
    "        plot_mean(labels, self.class_names, dataset_name)"
   ]
  },
  {
   "attachments": {},
   "cell_type": "markdown",
   "id": "dbcfd73e",
   "metadata": {},
   "source": [
    "## Data vizualisation (scripts/data_viz.py)\n",
    "\n",
    "The provided code contains a set of functions designed for visualizing the results of our ML model.\n",
    "These functions use matplotlib and seaborn, popular libraries for data visualization in Python, as well as sklearn for some of the calculations.\n",
    "\n",
    "The function `plot_distribution` visualizes the frequency of each class in the dataset. It creates a bar chart where the x-axis represents the classes (types of chest X-rays) and the y-axis represents the frequency of each class."
   ]
  },
  {
   "cell_type": "code",
   "execution_count": null,
   "id": "c629a9ec",
   "metadata": {
    "vscode": {
     "languageId": "plaintext"
    }
   },
   "outputs": [],
   "source": [
    "import matplotlib.pyplot as plt\n",
    "import numpy as np\n",
    "import seaborn as sns\n",
    "\n",
    "from sklearn.metrics import auc, confusion_matrix, roc_curve\n",
    "from sklearn.preprocessing import label_binarize\n",
    "\n",
    "\n",
    "colors = ['#56f6ff', '#e32440']\n",
    "\n",
    "def plot_distribution(labels, dataset_name):\n",
    "    plt.figure(figsize=(20, 10))\n",
    "    sns.set_style('whitegrid')\n",
    "    sns.countplot(x=labels, palette=colors)\n",
    "    plt.title(f\"{dataset_name} - Chest x-rays distribution\")\n",
    "    plt.xlabel(\"Chest x-ray\")\n",
    "    plt.ylabel(\"Frequency\")\n",
    "    plt.show()"
   ]
  },
  {
   "attachments": {},
   "cell_type": "markdown",
   "id": "015e0464",
   "metadata": {},
   "source": [
    "The `plot_mean` function calculates and visualizes the mean occurrence of each class in the dataset. It creates a bar chart with the x-axis representing the classes and the y-axis representing the mean occurrence (in percentage) of each class."
   ]
  },
  {
   "cell_type": "code",
   "execution_count": null,
   "id": "ec7081af",
   "metadata": {
    "vscode": {
     "languageId": "plaintext"
    }
   },
   "outputs": [],
   "source": [
    "def plot_mean(labels, class_names, dataset_name):\n",
    "    unique_labels = np.unique(labels)\n",
    "\n",
    "    mean_train = [np.mean(labels == label) * 100 for label in unique_labels]\n",
    "\n",
    "    bar_width = 0.25\n",
    "    index = np.arange(len(unique_labels))\n",
    "\n",
    "    plt.figure(figsize=(20, 10))\n",
    "    plt.style.use('seaborn')\n",
    "    plt.bar(index, mean_train, bar_width, label=class_names, tick_label=class_names,color=colors)\n",
    "    plt.xlabel(\"Xray\")\n",
    "    plt.ylabel(\"Mean occurence (%)\")\n",
    "    plt.title(f\"{dataset_name} - Mean occurence of each x-ray\")\n",
    "    plt.xticks(index, class_names)\n",
    "    plt.legend()\n",
    "    plt.tight_layout()\n",
    "    plt.show()"
   ]
  },
  {
   "attachments": {},
   "cell_type": "markdown",
   "id": "7030b6a0",
   "metadata": {},
   "source": [
    "The `plot_confusion_matrix` function visualizes a confusion matrix, which is a table layout that allows visualization of the performance of a classification model. The rows of the matrix represent the actual classes and the columns represent the predicted classes."
   ]
  },
  {
   "cell_type": "code",
   "execution_count": null,
   "id": "ed647549",
   "metadata": {
    "vscode": {
     "languageId": "plaintext"
    }
   },
   "outputs": [],
   "source": [
    "def plot_confusion_matrix(labels_true, labels_pred, class_names):\n",
    "    matrix = confusion_matrix(labels_true, labels_pred)\n",
    "\n",
    "    plt.figure(figsize=(16, 10))\n",
    "    sns.set_style('whitegrid')\n",
    "    sns.heatmap(\n",
    "        matrix,\n",
    "        annot=True,\n",
    "        cmap=\"YlGnBu\",\n",
    "        fmt=\"d\",\n",
    "        xticklabels=class_names,\n",
    "        yticklabels=class_names,\n",
    "    )\n",
    "    plt.title(\"Confusion matrix\")\n",
    "    plt.xlabel(\"Predicted results\")\n",
    "    plt.ylabel(\"Actual results\")\n",
    "    plt.show()"
   ]
  },
  {
   "attachments": {},
   "cell_type": "markdown",
   "id": "296ae161",
   "metadata": {},
   "source": [
    "\n",
    "The last function, `plot_roc_curve`, plots the Receiver Operating Characteristic (ROC) curve for each class in a multi-class classification model. \n",
    "\n",
    "The ROC curve is a graphical plot that illustrates the diagnostic ability of a binary classifier system as its discrimination threshold is varied. \n",
    "\n",
    "The function calculates the ROC curve and the Area Under the Curve (AUC) for each class, as well as for the micro-average over all classes, and then plots these curves."
   ]
  },
  {
   "cell_type": "code",
   "execution_count": null,
   "id": "8418f8d2",
   "metadata": {
    "vscode": {
     "languageId": "plaintext"
    }
   },
   "outputs": [],
   "source": [
    "def plot_roc_curve(y_true, y_pred_probs, class_names):\n",
    "    y_true_bin = label_binarize(y_true, classes=class_names)\n",
    "    n_classes = len(class_names)\n",
    "\n",
    "    fpr = dict()\n",
    "    tpr = dict()\n",
    "    roc_auc = dict()\n",
    "\n",
    "    for i in range(n_classes):\n",
    "        fpr[i], tpr[i], _ = roc_curve(y_true_bin[:, i], y_pred_probs[:, i])\n",
    "        roc_auc[i] = auc(fpr[i], tpr[i])\n",
    "\n",
    "    fpr[\"micro\"], tpr[\"micro\"], _ = roc_curve(y_true_bin.ravel(), y_pred_probs.ravel())\n",
    "    roc_auc[\"micro\"] = auc(fpr[\"micro\"], tpr[\"micro\"])\n",
    "\n",
    "    plt.figure(figsize=(20, 10))\n",
    "    sns.set_style('whitegrid')\n",
    "\n",
    "    for i in range(n_classes):\n",
    "        plt.plot(fpr[i], tpr[i], label=f\"Xray {class_names[i]} (AUC = {roc_auc[i]:.4f})\")\n",
    "\n",
    "    plt.plot([0, 1], [0, 1], \"k--\")\n",
    "    plt.xlim([0.0, 0.2])\n",
    "    plt.ylim([0.0, 1.05])\n",
    "    plt.xlabel(\"False positive rate\")\n",
    "    plt.ylabel(\"True positive rate\")\n",
    "    plt.title(\"Receiver Operating Characteristic curve\")\n",
    "    plt.legend(loc=\"lower right\")\n",
    "    plt.show()"
   ]
  },
  {
   "attachments": {},
   "cell_type": "markdown",
   "id": "ad61d0e3",
   "metadata": {},
   "source": [
    "These functions provide visual insights into the distribution of the data and the performance of the classification model, making them valuable tools for model evaluation and interpretation."
   ]
  },
  {
   "attachments": {},
   "cell_type": "markdown",
   "id": "c1652642",
   "metadata": {},
   "source": [
    "## Model loader (scripts/x_ray_model_loader.py)\n",
    "\n",
    "This class is designed to load, evaluate, and make predictions using a pre-trained deep learning model for chest X-ray image classification.\n",
    "The model and data loading utilize TensorFlow and Keras, popular libraries for deep learning in Python, while the model evaluation uses scikit-learn, a library for machine learning in Python.\n",
    "\n",
    "Upon initialization, the `ModelLoader` takes as input a batch size and image size. It sets up a path to the test dataset and loads a list of images to make predictions on. It then initializes a `Dataset` object to handle the test data, and builds it using TensorFlow's AUTOTUNE for optimal data loading."
   ]
  },
  {
   "cell_type": "code",
   "execution_count": null,
   "id": "ba974746",
   "metadata": {
    "vscode": {
     "languageId": "plaintext"
    }
   },
   "outputs": [],
   "source": [
    "import pathlib\n",
    "import os\n",
    "import math\n",
    "import tensorflow as tf\n",
    "import numpy as np\n",
    "import matplotlib.pyplot as plt\n",
    "\n",
    "from sklearn.metrics import classification_report\n",
    "\n",
    "from x_ray_data_viz import plot_confusion_matrix, plot_roc_curve\n",
    "from x_ray_dataset_builder import Dataset\n",
    "\n",
    "\n",
    "class ModelLoader:\n",
    "    def __init__(self, btch_size=64, img_size=(512, 512)):\n",
    "        test_dir = pathlib.Path(\"data/test\")\n",
    "        pred_list = os.listdir(\"data/prediction/\")\n",
    "\n",
    "        test_ds = Dataset(test_dir, image_size=img_size, batch_size=btch_size)\n",
    "\n",
    "        AUTOTUNE = tf.data.AUTOTUNE\n",
    "        test_ds.build(AUTOTUNE)\n",
    "\n",
    "        self.loaded_model = None\n",
    "        self.probability_model = None\n",
    "        self.class_names = test_ds.get_class_names()\n",
    "        self.pred_list = pred_list\n",
    "        self.test_ds = test_ds.normalized_dataset\n",
    "        self.x_test = test_ds.x_dataset\n",
    "        self.y_test = test_ds.y_dataset"
   ]
  },
  {
   "attachments": {},
   "cell_type": "markdown",
   "id": "0ab6acf8",
   "metadata": {},
   "source": [
    "\n",
    "The `load` method of the class is used to load a trained model from a given path. It also sets up a probability model, which is the original model wrapped with a softmax layer. The softmax function is often used in the final layer of a neural network-based classifier to produce probabilities for each class."
   ]
  },
  {
   "cell_type": "code",
   "execution_count": null,
   "id": "d353c024",
   "metadata": {
    "vscode": {
     "languageId": "plaintext"
    }
   },
   "outputs": [],
   "source": [
    "    def load(self, model_pathname):\n",
    "        self.loaded_model = tf.keras.models.load_model(model_pathname)\n",
    "        self.probability_model = tf.keras.Sequential([self.loaded_model, tf.keras.layers.Softmax()])"
   ]
  },
  {
   "attachments": {},
   "cell_type": "markdown",
   "id": "feeb43e7",
   "metadata": {},
   "source": [
    "The `evaluate` method evaluates the loaded model on the test dataset. It prints the loss, categorical accuracy, precision, recall, and area under the ROC curve (AUC) for the test dataset. It then calculates and displays the confusion matrix and ROC curve for the model's performance on the test data. Finally, it prints a classification report, which includes precision, recall, f1-score, and support for each class."
   ]
  },
  {
   "cell_type": "code",
   "execution_count": null,
   "id": "e6f154e8",
   "metadata": {
    "vscode": {
     "languageId": "plaintext"
    }
   },
   "outputs": [],
   "source": [
    "    def evaluate(self):\n",
    "        print('\\nEvaluating loaded model...')\n",
    "        print('\\n')\n",
    "        test_loss, categorical_accuracy, test_precision, test_recall, test_auc = self.loaded_model.evaluate(self.test_ds, verbose=2)\n",
    "        print('\\nTest loaded loss is: %s' % (test_loss))\n",
    "        print('\\nTest loaded categorical accurancy is: %s' % (categorical_accuracy))\n",
    "        print('\\nTest loaded precision is: %s' % (test_precision))\n",
    "        print('\\nTest loaded recall is: %s' % (test_recall))\n",
    "        print('\\nTest loaded area under the curve is: %s' % (test_auc))\n",
    "\n",
    "        y_pred = self.loaded_model.predict(self.x_test)\n",
    "\n",
    "        true_labels = np.argmax(self.y_test, axis=1)\n",
    "        pred_labels = np.argmax(y_pred, axis=1)\n",
    "        plot_confusion_matrix(true_labels, pred_labels, class_names=self.class_names)\n",
    "        plot_roc_curve(self.y_test, y_pred, class_names=self.class_names)\n",
    "        print(\"\\nClassification Report:\\n\")\n",
    "        print(classification_report(true_labels, pred_labels, target_names=self.class_names, zero_division=0))"
   ]
  },
  {
   "attachments": {},
   "cell_type": "markdown",
   "id": "cd7ae858",
   "metadata": {},
   "source": [
    "\n",
    "\n",
    "The `predict` method is used to make predictions on a set of images stored in a specific folder. It loads each image, processes it, and feeds it to the model for prediction. The predicted class and its probability are then displayed on the image and all images are shown in a grid format using matplotlib."
   ]
  },
  {
   "cell_type": "code",
   "execution_count": null,
   "id": "1dbb2411",
   "metadata": {
    "vscode": {
     "languageId": "plaintext"
    }
   },
   "outputs": [],
   "source": [
    "    def predict(self, color=\"grayscale\", img_size=(512, 512)):\n",
    "        num_cols = 4\n",
    "        num_rows = math.ceil(len(self.pred_list) / num_cols)\n",
    "\n",
    "        plt.figure(figsize=(20, 10))\n",
    "\n",
    "        for i in range(len(self.pred_list)):\n",
    "            img = tf.keras.utils.load_img(\n",
    "                f\"data/prediction/{self.pred_list[i]}\",\n",
    "                color_mode=color,\n",
    "                target_size=img_size\n",
    "            )\n",
    "            img_array = tf.keras.utils.img_to_array(img)\n",
    "            img_array = tf.expand_dims(img_array, 0)\n",
    "            predictions = self.loaded_model.predict(img_array)\n",
    "\n",
    "            score = tf.nn.softmax(predictions[0])\n",
    "            \n",
    "            plt.subplot(num_rows, num_cols, i+1)\n",
    "            plt.axis(\"off\")\n",
    "            plt.imshow(img, cmap='gray')\n",
    "            plt.title(\"{} ({:.2f}%)\"\n",
    "                .format(self.class_names[np.argmax(score)], 100 * np.max(score)))\n",
    "            \n",
    "        plt.show()"
   ]
  },
  {
   "attachments": {},
   "cell_type": "markdown",
   "id": "784c0b21",
   "metadata": {},
   "source": [
    "In summary, this class provides a convenient way to load, evaluate, and use a pre-trained model for chest X-ray image classification \n",
    "but this class is really essential because it allow to vizualize the appropriate metrics to evaluate the model's performances."
   ]
  }
 ],
 "metadata": {
  "kernelspec": {
   "display_name": "Python 3 (ipykernel)",
   "language": "python",
   "name": "python3"
  },
  "language_info": {
   "codemirror_mode": {
    "name": "ipython",
    "version": 3
   },
   "file_extension": ".py",
   "mimetype": "text/x-python",
   "name": "python",
   "nbconvert_exporter": "python",
   "pygments_lexer": "ipython3",
   "version": "3.8.10"
  }
 },
 "nbformat": 4,
 "nbformat_minor": 5
}
